{
 "cells": [
  {
   "cell_type": "markdown",
   "metadata": {},
   "source": [
    "# Day 11 Reading Journal\n",
    "\n",
    "This journal includes several required exercises, but it is meant to encourage active reading more generally.  You should use the journal to take detailed notes, catalog questions, and explore the content from Think Python deeply.\n",
    "\n",
    "Reading: Review Think Python Chapters 15-17\n",
    "\n",
    "**Due: Monday, February 29 at 12 noon**\n",
    "\n"
   ]
  },
  {
   "cell_type": "markdown",
   "metadata": {},
   "source": [
    "## [Chapter 15](http://www.greenteapress.com/thinkpython/html/thinkpython016.html), [Chapter 16](http://www.greenteapress.com/thinkpython/html/thinkpython017.html), [Chapter 17](http://www.greenteapress.com/thinkpython/html/thinkpython018.html)\n",
    "\n",
    "\n",
    "By the end of chapter 17, we have all the tools we need to create our own user-defined types known as classes. In this reading journal, we're asking you to review and solidify your understanding of this material so we can build on it for the rest of the course. \n",
    "\n",
    "If you didn't get a chance to fully complete the Day 10 reading journal, you may want to do so now."
   ]
  },
  {
   "cell_type": "markdown",
   "metadata": {
    "problem": "Terminology"
   },
   "source": [
    "### Terminology\n",
    "\n",
    "You should be familiar with the following list of terms and concepts. If any of them are unclear to you, re-read, ask, write a definition in your own words, and try an example if appropriate.\n",
    "\n",
    " - class\n",
    " - object\n",
    " - instance\n",
    " - attribute\n",
    " - method\n",
    " - shallow vs deep copying\n",
    " - pure functions vs modifiers\n",
    " - initializing object instances\n",
    " "
   ]
  },
  {
   "cell_type": "markdown",
   "metadata": {
    "is_question": true,
    "problem": "Exercise 1"
   },
   "source": [
    "### Exercise\n",
    "\n",
    "We're going to take the first steps toward writing a calendar application. To keep things simple, we'll restrict ourselves to a single day for now. Write an `Event` class with the following attributes:\n",
    "\n",
    " - `name`  : Title for the `Event`\n",
    " - `start` : `Time` object representing the start time for the `Event`\n",
    " - `end`   : `Time` object representing the end time for the `Event`\n",
    "\n",
    "You can also augment your `Event` class with additional attributes, such as location and attendees.\n",
    "\n",
    "Write `__init__` and `__str__` methods for your `Event` class."
   ]
  },
  {
   "cell_type": "code",
   "execution_count": 1,
   "metadata": {
    "collapsed": false,
    "solution": "Exercise 1"
   },
   "outputs": [
    {
     "name": "stdout",
     "output_type": "stream",
     "text": [
      "Title:Meeting A,Start:09:30,End:10:50\n"
     ]
    }
   ],
   "source": [
    "class Time(object):\n",
    "    def __init__(self, hour, minute):\n",
    "        self.hour = hour\n",
    "        self.minute = minute\n",
    "    def __str__(self):\n",
    "        return '{:02}:{:02}'.format(self.hour, self.minute)\n",
    "\n",
    "class Event(object):\n",
    "    def __init__(self, name, start, end):\n",
    "        self.name = name\n",
    "        self.start = start\n",
    "        self.end = end\n",
    "    def __str__(self):\n",
    "        return 'Title:{},Start:{},End:{}'.format(self.name,self.start,self.end)\n",
    "start = Time(9, 30)\n",
    "end = Time (10, 50)\n",
    "a = Event('Meeting A', start, end)\n",
    "print a\n"
   ]
  },
  {
   "cell_type": "markdown",
   "metadata": {
    "is_question": true,
    "problem": "Exercise 2"
   },
   "source": [
    "### Exercise\n",
    "\n",
    "Write a `duration` method that returns the duration of the `Event` in minutes."
   ]
  },
  {
   "cell_type": "code",
   "execution_count": 2,
   "metadata": {
    "collapsed": false,
    "solution": "Exercise 2"
   },
   "outputs": [
    {
     "name": "stdout",
     "output_type": "stream",
     "text": [
      "Title:Meeting A, Start:10:30, End:10:50, Duration:20 mins\n"
     ]
    }
   ],
   "source": [
    "class Event(object):\n",
    "    def __init__(self, name, start, end):\n",
    "        self.name = name\n",
    "        self.start = start\n",
    "        self.end = end\n",
    "    def duration(self):\n",
    "        return (self.end.hour - self.start.hour) * 60 + self.end.minute - self.start.minute\n",
    "    def __str__(self):\n",
    "        return 'Title:{}, Start:{}, End:{}, Duration:{} mins'.format(self.name,self.start,self.end, self.duration())\n",
    "    \n",
    "a = Event('Meeting A', Time(10, 30), Time(10, 50))\n",
    "print a\n",
    "    \n",
    "    "
   ]
  },
  {
   "cell_type": "markdown",
   "metadata": {
    "is_question": true,
    "problem": "Exercise 3"
   },
   "source": [
    "### Exercise\n",
    "\n",
    "Write an `Agenda` class that contains several `Event`s for the day.\n",
    "\n",
    "**Quick check: ** How should you store `Event`s within your `Agenda` class?\n",
    "\n",
    "Your `Agenda` class should include a `print_agenda` method that prints out your schedule for the day, in order.\n",
    "\n",
    "**Optional:** Include a `is_feasible` method that returns `True` if your schedule has no time conflicts. You may want to write additional helper methods for the `Event` class to make this easier."
   ]
  },
  {
   "cell_type": "code",
   "execution_count": 32,
   "metadata": {
    "collapsed": false,
    "solution": "Exercise 3"
   },
   "outputs": [
    {
     "name": "stdout",
     "output_type": "stream",
     "text": [
      "Title:Meeting d, Start:14:45, End:16:00, Duration:75 mins\n",
      "Title:Meeting c, Start:15:30, End:20:50, Duration:320 mins\n"
     ]
    },
    {
     "data": {
      "text/plain": [
       "False"
      ]
     },
     "execution_count": 32,
     "metadata": {},
     "output_type": "execute_result"
    }
   ],
   "source": [
    "\n",
    "class Agenda(object):\n",
    "    def __init__(self, EventList):\n",
    "        self.EventList = EventList\n",
    "    \n",
    "    def sort(self):\n",
    "        return sorted(self.EventList, key=lambda x: (x.start.hour,x.start.minute), reverse=False)\n",
    "\n",
    "    def print_agenda(self):\n",
    "        for i in range(len(self.EventList)):\n",
    "            print Agenda.sort(self)[i].__str__()\n",
    "            \n",
    "    def is_feasible(self):\n",
    "        l = Agenda.sort(self)\n",
    "        i = 0\n",
    "        while (l[i].end.hour, l[i].end.minute) <= (l[i+1].start.hour, l[i+1].start.minute):\n",
    "            i += 1\n",
    "            if i == len(l)-1:\n",
    "                return True\n",
    "        return False\n",
    "\n",
    "c = Event('Meeting c', Time(15, 30), Time(20, 50))\n",
    "d = Event('Meeting d', Time(14, 45), Time(16, 0))\n",
    "Calendar = Agenda([c,d])\n",
    "Calendar.print_agenda()\n",
    "Calendar.is_feasible()"
   ]
  },
  {
   "cell_type": "markdown",
   "metadata": {
    "is_question": true,
    "problem": "Exercise 4"
   },
   "source": [
    "### Going Beyond (optional)\n",
    "\n",
    "Some ideas for taking your application further:\n",
    " - Add people and/or places to the mix to create a scheduling assistant\n",
    " - Extend support for day-of-week or full date. A word of warning: dealing with dates and times in real applications is difficult due to the huge number of special cases (Perfect example: this reading journal is due on Leap Day). Consider using something like the Python [datetime](https://docs.python.org/2/library/datetime.html) module.\n",
    " - Use pickle or some other persistence strategy to save and load your `Agenda`."
   ]
  },
  {
   "cell_type": "code",
   "execution_count": null,
   "metadata": {
    "collapsed": true,
    "solution": "Exercise 4"
   },
   "outputs": [],
   "source": []
  },
  {
   "cell_type": "markdown",
   "metadata": {
    "is_poll": true,
    "is_question": true,
    "problem": "Time spent"
   },
   "source": [
    "## Quick poll\n",
    "About how long did you spend working on this Reading Journal?"
   ]
  },
  {
   "cell_type": "markdown",
   "metadata": {
    "poll_response": true,
    "solution": "Time spent"
   },
   "source": [
    "1 hour"
   ]
  },
  {
   "cell_type": "markdown",
   "metadata": {
    "is_question": true,
    "problem": "Feedback"
   },
   "source": [
    "## Reading Journal feedback\n",
    "\n",
    "Have any comments on this Reading Journal? Feel free to leave them below and we'll read them when you submit your journal entry. This could include suggestions to improve the exercises, topics you'd like to see covered in class next time, or other feedback.\n",
    "\n",
    "If you have Python questions or run into problems while completing the reading, you should post them to Piazza instead so you can get a quick response before your journal is submitted."
   ]
  },
  {
   "cell_type": "markdown",
   "metadata": {
    "feedback_response": true,
    "solution": "Feedback"
   },
   "source": [
    " "
   ]
  }
 ],
 "metadata": {
  "celltoolbar": "Edit Metadata",
  "kernelspec": {
   "display_name": "Python 2",
   "language": "python",
   "name": "python2"
  },
  "language_info": {
   "codemirror_mode": {
    "name": "ipython",
    "version": 2
   },
   "file_extension": ".py",
   "mimetype": "text/x-python",
   "name": "python",
   "nbconvert_exporter": "python",
   "pygments_lexer": "ipython2",
   "version": "2.7.6"
  }
 },
 "nbformat": 4,
 "nbformat_minor": 0
}
