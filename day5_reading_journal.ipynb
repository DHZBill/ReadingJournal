{
 "cells": [
  {
   "cell_type": "markdown",
   "metadata": {},
   "source": [
    "# Day 5 Reading Journal\n",
    "\n",
    "This journal includes several required exercises, but it is meant to encourage active reading more generally.  You should use the journal to take detailed notes, catalog questions, and explore the content from Think Python deeply.\n",
    "\n",
    "Reading: Think Python Chapter 4\n",
    "\n",
    "**Due: Monday, February 8 at 12 noon**\n",
    "\n"
   ]
  },
  {
   "cell_type": "markdown",
   "metadata": {},
   "source": [
    "## [Chapter 4](http://www.greenteapress.com/thinkpython/html/thinkpython005.html)\n",
    "\n",
    "In today's reading, you'll be exploring TurtleWorld!\n",
    "TurtleWorld is part of the [swampy](http://www.greenteapress.com/thinkpython/swampy/) package, written by Allen Downey.\n",
    "As part of the [Get Set](https://sites.google.com/site/sd16spring/home/assignments-and-mini-projects/setup-your-environment) assignment, you installed the swampy package using the pip Python package management tool. If you somehow missed that step or you see errors when you try to import TurtleWorld, you can install swampy by running:\n",
    "\n",
    "```\n",
    "sudo pip install swampy\n",
    "```\n",
    "\n",
    "at the command line.\n",
    "\n",
    "### Turtle wrangling\n",
    "\n",
    "You can always run your code as separate Python scripts, but here are a few tips for mixing TurtleWorld with Jupyter notebook:\n",
    "\n",
    " - TurtleWorld will appear in a new GUI window, rather than inline in the notebook like typical results do\n",
    " - You will not be able to close the TurtleWorld window unless you run `wait_for_user()` as the last line of your code.\n",
    " - Jupyter notebook works like one big Python script, even though it is broken up into sections. This means that you could create a Turtle in one cell, move it in a later cell, and then `wait_for_user()` in yet another. Despite this, it might be easier to treat each cell in this assignment as a separate script, creating a new world at the beginning and destroying it at the end of each."
   ]
  },
  {
   "cell_type": "markdown",
   "metadata": {},
   "source": [
    "### Get started\n",
    "\n",
    "Run the code in the cell below and make sure everything works. You should see brave Alice spring into the world and run forward. You can close the window when you're done by clicking on the 'X'. If this simple test doesn't work, check your swampy install (especially if you get an `ImportError`) and ask for help."
   ]
  },
  {
   "cell_type": "code",
   "execution_count": 2,
   "metadata": {
    "collapsed": true
   },
   "outputs": [],
   "source": [
    "from swampy.TurtleWorld import *\n",
    "\n",
    "# Create the world, and a turtle to put in it\n",
    "world = TurtleWorld()\n",
    "alice = Turtle()\n",
    "\n",
    "# Get moving, turtle!\n",
    "fd(alice, 50)\n",
    "\n",
    "# Wait for the user to close the window\n",
    "wait_for_user()"
   ]
  },
  {
   "cell_type": "markdown",
   "metadata": {
    "is_question": true,
    "problem": "Section 4.3"
   },
   "source": [
    "### Section 4.3 exercises\n",
    "Work through exercises 1-5 in Section 4.3, creating the `square`, `polygon`, `circle`, and `arc` functions. You can reference Allen's solutions, but please try the problems on your own first."
   ]
  },
  {
   "cell_type": "code",
   "execution_count": 3,
   "metadata": {
    "collapsed": false,
    "solution": "Section 4.3"
   },
   "outputs": [],
   "source": [
    "def  square(t):\n",
    "    world = TurtleWorld()\n",
    "    t = Turtle()\n",
    "    def one_turn():\n",
    "        fd(t, 50)\n",
    "        lt(t)\n",
    "    one_turn()\n",
    "    one_turn()\n",
    "    one_turn()\n",
    "    one_turn()\n",
    "    wait_for_user()\n",
    "square('bob')\n",
    "    \n",
    "    \n",
    "\n",
    "    "
   ]
  },
  {
   "cell_type": "code",
   "execution_count": 4,
   "metadata": {
    "collapsed": true
   },
   "outputs": [],
   "source": [
    "def  square(t,length):\n",
    "    world = TurtleWorld()\n",
    "    t = Turtle()    \n",
    "    def one_turn():\n",
    "        fd(t, length)\n",
    "        lt(t)\n",
    "    one_turn()\n",
    "    one_turn()\n",
    "    one_turn()\n",
    "    one_turn()\n",
    "    wait_for_user()\n",
    "square('bob',100)"
   ]
  },
  {
   "cell_type": "code",
   "execution_count": 5,
   "metadata": {
    "collapsed": false
   },
   "outputs": [],
   "source": [
    "def  polygon(t,length,n):\n",
    "    world = TurtleWorld()\n",
    "    t = Turtle()    \n",
    "    def one_turn():\n",
    "        fd(t, length)\n",
    "        lt(t,360/n)\n",
    "    for i in range(n):\n",
    "        one_turn()\n",
    "    wait_for_user()\n",
    "polygon('bob',60,8)"
   ]
  },
  {
   "cell_type": "code",
   "execution_count": 6,
   "metadata": {
    "collapsed": false
   },
   "outputs": [],
   "source": [
    "import math\n",
    "def  circle(t,r):\n",
    "    world = TurtleWorld()\n",
    "    t = Turtle()\n",
    "    t.delay=0.01\n",
    "    circumference=2*math.pi*r\n",
    "    n=36\n",
    "    length=circumference/n\n",
    "    def one_turn():\n",
    "        fd(t,length)\n",
    "        lt(t,360/n)\n",
    "    for i in range(n):\n",
    "        one_turn()\n",
    "    wait_for_user()\n",
    "circle('bob',100)"
   ]
  },
  {
   "cell_type": "code",
   "execution_count": 7,
   "metadata": {
    "collapsed": false
   },
   "outputs": [],
   "source": [
    "def  arc(t,r,angle):\n",
    "    world = TurtleWorld()\n",
    "    t = Turtle()\n",
    "    t.delay=0.01\n",
    "    circumference=2*math.pi*r\n",
    "    n=36\n",
    "    length=circumference/n\n",
    "    def one_turn():\n",
    "        fd(t,length)\n",
    "        lt(t,360/n)\n",
    "    for i in range(n*angle/360):\n",
    "        one_turn()\n",
    "    wait_for_user()\n",
    "arc('bob',100,90)"
   ]
  },
  {
   "cell_type": "markdown",
   "metadata": {
    "is_question": true,
    "problem": "More fun"
   },
   "source": [
    "### Exercise: More fun with Turtles!\n",
    "Complete at least one of Exercise 2, 3, 4, or 5. If you come up with some cool drawings you'd like to share with the rest of the class, let us know!"
   ]
  },
  {
   "cell_type": "code",
   "execution_count": 8,
   "metadata": {
    "collapsed": true,
    "solution": "More fun"
   },
   "outputs": [],
   "source": [
    "def flower(t,angle,r,n):\n",
    "    world = TurtleWorld()\n",
    "    t = Turtle()\n",
    "    t.delay = 0.01\n",
    "    def arc():\n",
    "        circumference=2*math.pi*r\n",
    "        n=36\n",
    "        length=circumference/n\n",
    "        def one_turn():\n",
    "            fd(t,length)\n",
    "            lt(t,360/n)\n",
    "        for i in range(n*angle/360):\n",
    "            one_turn()\n",
    "        \n",
    "    def draw_one():\n",
    "        for i in range(2):\n",
    "            arc()\n",
    "            lt(t,180-angle)\n",
    "    def draw_flower():\n",
    "        for i in range(n):\n",
    "            draw_one()\n",
    "            lt(t,360/float(n))\n",
    "    draw_flower()\n",
    "    wait_for_user()\n",
    "flower('bob',60,100,20)\n",
    "        \n",
    "        \n",
    "        \n",
    "        \n",
    "    \n",
    "    "
   ]
  },
  {
   "cell_type": "code",
   "execution_count": 34,
   "metadata": {
    "collapsed": false
   },
   "outputs": [],
   "source": [
    "def shape(t,side_len,n):\n",
    "    world = TurtleWorld()\n",
    "    t = Turtle()\n",
    "    t.delay = 0.01\n",
    "    \n",
    "    angle_sum = (n - 2) * 180\n",
    "    angle_turn = float(angle_sum / n / 2)\n",
    "    angle_in = 180 - angle_turn * 2\n",
    "    in_len = float(side_len / 2) / math.cos(angle_turn/180*math.pi)\n",
    "    def triangle():\n",
    "        fd(t,in_len)\n",
    "        lt(t,180 - angle_turn)\n",
    "        fd(t,side_len)\n",
    "        lt(t,180 -angle_turn)\n",
    "        fd(t,in_len)\n",
    "        lt(t,180)\n",
    "    for i in range(n):\n",
    "        triangle()\n",
    "    wait_for_user()\n",
    "shape('bob',60,9)\n",
    "    "
   ]
  },
  {
   "cell_type": "code",
   "execution_count": null,
   "metadata": {
    "collapsed": true
   },
   "outputs": [],
   "source": []
  },
  {
   "cell_type": "markdown",
   "metadata": {},
   "source": [
    "## Reading Journal feedback\n",
    "\n",
    "Have any comments on this Reading Journal? Feel free to leave them below and we'll read them when you submit your journal entry. This could include suggestions to improve the exercises, topics you'd like to see covered in class next time, or other feedback.\n",
    "\n",
    "If you have Python questions or run into problems while completing the reading, you should post them to Piazza instead so you can get a quick response before your journal is submitted."
   ]
  },
  {
   "cell_type": "markdown",
   "metadata": {},
   "source": [
    " "
   ]
  }
 ],
 "metadata": {
  "kernelspec": {
   "display_name": "Python 2",
   "language": "python",
   "name": "python2"
  },
  "language_info": {
   "codemirror_mode": {
    "name": "ipython",
    "version": 2
   },
   "file_extension": ".py",
   "mimetype": "text/x-python",
   "name": "python",
   "nbconvert_exporter": "python",
   "pygments_lexer": "ipython2",
   "version": "2.7.6"
  }
 },
 "nbformat": 4,
 "nbformat_minor": 0
}
